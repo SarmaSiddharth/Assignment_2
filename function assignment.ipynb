{
 "cells": [
  {
   "cell_type": "code",
   "execution_count": 1,
   "id": "2b391e91-2c77-42a3-bf9b-62dab7d78c10",
   "metadata": {},
   "outputs": [],
   "source": [
    "#which keyword is used to create a funtion? Create a function to return a list of odd numbers in the range of 1 to 25"
   ]
  },
  {
   "cell_type": "code",
   "execution_count": 19,
   "id": "251e99e6-06c8-47db-959d-9ac06c390ea2",
   "metadata": {},
   "outputs": [],
   "source": [
    "#def is the function\n",
    "def odd_numbers():\n",
    "    yo_number = []\n",
    "    for num in range(1,26):\n",
    "        if num % 2 != 0:\n",
    "            yo_number.append(num)\n",
    "    return yo_number    \n"
   ]
  },
  {
   "cell_type": "code",
   "execution_count": 21,
   "id": "9f355cd5-c201-4763-b36a-56f8c0799d98",
   "metadata": {},
   "outputs": [
    {
     "data": {
      "text/plain": [
       "[1, 3, 5, 7, 9, 11, 13, 15, 17, 19, 21, 23, 25]"
      ]
     },
     "execution_count": 21,
     "metadata": {},
     "output_type": "execute_result"
    }
   ],
   "source": [
    "odd_numbers()"
   ]
  },
  {
   "cell_type": "code",
   "execution_count": 23,
   "id": "254c9a4f-79c3-440a-b599-3d846051ab48",
   "metadata": {},
   "outputs": [],
   "source": [
    "#why *args and *kwargs is used in some functions? create a function for each of them to demonstrate theri use"
   ]
  },
  {
   "cell_type": "code",
   "execution_count": 28,
   "id": "a56f1fd2-3137-4298-9a05-abd21e87c579",
   "metadata": {},
   "outputs": [],
   "source": [
    "def test1(*args):\n",
    "    l=[]\n",
    "    for i in args :\n",
    "        if type(i)==list:\n",
    "            l.append(i)\n",
    "    return l        "
   ]
  },
  {
   "cell_type": "code",
   "execution_count": 29,
   "id": "46065d32-7821-437d-83ae-6f60b0efd379",
   "metadata": {},
   "outputs": [
    {
     "data": {
      "text/plain": [
       "[[4, 5, 6, 8, 9], [1, 2, 3, 4, 50]]"
      ]
     },
     "execution_count": 29,
     "metadata": {},
     "output_type": "execute_result"
    }
   ],
   "source": [
    "test1(1,2,3,4,[4,5,6,8,9],\"sid\",[1,2,3,4,50],5,6)"
   ]
  },
  {
   "cell_type": "code",
   "execution_count": 33,
   "id": "e6787778-2856-432e-8fa0-1368dee6f06a",
   "metadata": {},
   "outputs": [],
   "source": [
    "def test2(**kwargs):\n",
    "    for i in kwargs.keys():\n",
    "        if type(kwargs[i])==list:\n",
    "            return i ,kwargs[i]       \n",
    "    "
   ]
  },
  {
   "cell_type": "code",
   "execution_count": 42,
   "id": "cac2701d-b12d-438d-9407-4a565e923f98",
   "metadata": {},
   "outputs": [
    {
     "ename": "TypeError",
     "evalue": "test2() got an unexpected keyword argument 'a'",
     "output_type": "error",
     "traceback": [
      "\u001b[0;31m---------------------------------------------------------------------------\u001b[0m",
      "\u001b[0;31mTypeError\u001b[0m                                 Traceback (most recent call last)",
      "Cell \u001b[0;32mIn[42], line 1\u001b[0m\n\u001b[0;32m----> 1\u001b[0m \u001b[43mtest2\u001b[49m\u001b[43m(\u001b[49m\u001b[43ma\u001b[49m\u001b[38;5;241;43m=\u001b[39;49m\u001b[38;5;241;43m56\u001b[39;49m\u001b[43m \u001b[49m\u001b[43m,\u001b[49m\u001b[43mb\u001b[49m\u001b[43m \u001b[49m\u001b[38;5;241;43m=\u001b[39;49m\u001b[38;5;241;43m92\u001b[39;49m\u001b[43m \u001b[49m\u001b[43m,\u001b[49m\u001b[43m \u001b[49m\u001b[43mc\u001b[49m\u001b[38;5;241;43m=\u001b[39;49m\u001b[43m[\u001b[49m\u001b[38;5;241;43m1\u001b[39;49m\u001b[43m,\u001b[49m\u001b[38;5;241;43m2\u001b[39;49m\u001b[43m,\u001b[49m\u001b[38;5;241;43m3\u001b[39;49m\u001b[43m,\u001b[49m\u001b[38;5;241;43m4\u001b[39;49m\u001b[43m,\u001b[49m\u001b[38;5;241;43m5\u001b[39;49m\u001b[43m,\u001b[49m\u001b[38;5;241;43m6\u001b[39;49m\u001b[43m]\u001b[49m\u001b[43m,\u001b[49m\u001b[43md\u001b[49m\u001b[38;5;241;43m=\u001b[39;49m\u001b[43m(\u001b[49m\u001b[38;5;124;43m\"\u001b[39;49m\u001b[38;5;124;43msiddharth\u001b[39;49m\u001b[38;5;124;43m\"\u001b[39;49m\u001b[43m,\u001b[49m\u001b[38;5;124;43m\"\u001b[39;49m\u001b[38;5;124;43m sarma\u001b[39;49m\u001b[38;5;124;43m\"\u001b[39;49m\u001b[43m)\u001b[49m\u001b[43m)\u001b[49m\n",
      "\u001b[0;31mTypeError\u001b[0m: test2() got an unexpected keyword argument 'a'"
     ]
    }
   ],
   "source": [
    "test2(a=56 ,b =92 , c=[1,2,3,4,5,6],d=(\"siddharth\",\" sarma\"))"
   ]
  },
  {
   "cell_type": "code",
   "execution_count": 43,
   "id": "883ad392-d23d-4e49-bf40-2d3347cbbf6a",
   "metadata": {},
   "outputs": [],
   "source": [
    "#what is an iterator in python? name the method used to intiolise the iterator object and the method \n",
    "#used for iteration,Use this method to print first five elements of the givenlist[2,4,6,8,10,12,14,16,18,20]"
   ]
  },
  {
   "cell_type": "code",
   "execution_count": 49,
   "id": "a75d4483-ac98-44ef-8fce-6c1c4b6a2267",
   "metadata": {},
   "outputs": [
    {
     "name": "stdout",
     "output_type": "stream",
     "text": [
      "2\n",
      "4\n",
      "6\n",
      "8\n",
      "10\n"
     ]
    }
   ],
   "source": [
    "#go through a sequence of elements one at a time\n",
    "list=[2,4,6,8,10,12,14,16,18,20]\n",
    "iterator=iter(list)\n",
    "for i in range(5):\n",
    "        element=next(iterator)\n",
    "        print(element)"
   ]
  },
  {
   "cell_type": "code",
   "execution_count": 50,
   "id": "22dd0b66-9a5f-458d-a4ee-d635bea5a90a",
   "metadata": {},
   "outputs": [],
   "source": [
    "#what is a generator function in python?Give an example of a generator function"
   ]
  },
  {
   "cell_type": "code",
   "execution_count": 51,
   "id": "a769a6b6-4fd1-47d9-851e-6903e8f0ba96",
   "metadata": {},
   "outputs": [],
   "source": [
    "def test3(n):\n",
    "    a,b=0,1\n",
    "    for i in range(n):\n",
    "        yield a\n",
    "        a,b= b, b+a\n",
    "        "
   ]
  },
  {
   "cell_type": "code",
   "execution_count": 52,
   "id": "f4d77e62-79a5-4c19-880e-e4736abcc637",
   "metadata": {},
   "outputs": [
    {
     "name": "stdout",
     "output_type": "stream",
     "text": [
      "0\n",
      "1\n",
      "1\n",
      "2\n",
      "3\n",
      "5\n",
      "8\n",
      "13\n",
      "21\n",
      "34\n"
     ]
    }
   ],
   "source": [
    "for i in test3(10):\n",
    "    print(i)\n"
   ]
  },
  {
   "cell_type": "code",
   "execution_count": 53,
   "id": "5cf69899-fdd0-4d52-94a2-bb72f9533573",
   "metadata": {},
   "outputs": [],
   "source": [
    "#Create a generator function for prime numbers less than 1000 . use the next()method to print the first 20"
   ]
  },
  {
   "cell_type": "code",
   "execution_count": 55,
   "id": "9a14fe9a-3ae4-4c3c-b162-c613728d6eba",
   "metadata": {},
   "outputs": [],
   "source": [
    "#i dont know how to do it"
   ]
  },
  {
   "cell_type": "code",
   "execution_count": 56,
   "id": "6af6ea63-03b2-43c4-9c68-0a3d7e6c4c15",
   "metadata": {},
   "outputs": [],
   "source": [
    "#Q1. Create a python program to sort the given list of tuples based on integer value using a\n",
    "#lambda function.\n",
    "#[('Sachin Tendulkar', 34357), ('Ricky Ponting', 27483), ('Jack Kallis', 25534), ('Virat Kohli', 24936)]"
   ]
  },
  {
   "cell_type": "code",
   "execution_count": 57,
   "id": "4c8cb21e-77c6-4962-88c1-13ccd6f8e79e",
   "metadata": {},
   "outputs": [],
   "source": [
    "#dont know how to do"
   ]
  },
  {
   "cell_type": "code",
   "execution_count": 58,
   "id": "9deba4b0-a4f6-4941-aec5-b63e3504c742",
   "metadata": {},
   "outputs": [],
   "source": [
    "# Write a Python Program to find the squares of all the numbers in the given list of integers using\n",
    "#lambda and map functions.\n",
    "#[1, 2, 3, 4, 5, 6, 7, 8, 9, 10]"
   ]
  },
  {
   "cell_type": "code",
   "execution_count": 65,
   "id": "258f4d2d-d011-4fa4-8c43-ac8641a16783",
   "metadata": {},
   "outputs": [],
   "source": [
    "l=[1,2,3,4,5,6,7,8,9,10]"
   ]
  },
  {
   "cell_type": "code",
   "execution_count": 60,
   "id": "31b70628-0ca6-4813-a4d5-5fb99372dc43",
   "metadata": {},
   "outputs": [],
   "source": [
    "def sq(x):\n",
    "    return x**2\n"
   ]
  },
  {
   "cell_type": "code",
   "execution_count": 64,
   "id": "5cfe98f5-75f7-4218-9b6b-0d7d9cdc2476",
   "metadata": {},
   "outputs": [
    {
     "ename": "TypeError",
     "evalue": "'list' object is not callable",
     "output_type": "error",
     "traceback": [
      "\u001b[0;31m---------------------------------------------------------------------------\u001b[0m",
      "\u001b[0;31mTypeError\u001b[0m                                 Traceback (most recent call last)",
      "Cell \u001b[0;32mIn[64], line 1\u001b[0m\n\u001b[0;32m----> 1\u001b[0m \u001b[38;5;28;43mlist\u001b[39;49m\u001b[43m(\u001b[49m\u001b[38;5;28;43mmap\u001b[39;49m\u001b[43m(\u001b[49m\u001b[38;5;28;43;01mlambda\u001b[39;49;00m\u001b[43m \u001b[49m\u001b[43mx\u001b[49m\u001b[43m \u001b[49m\u001b[43m:\u001b[49m\u001b[43m \u001b[49m\u001b[43mx\u001b[49m\u001b[38;5;241;43m*\u001b[39;49m\u001b[38;5;241;43m*\u001b[39;49m\u001b[38;5;241;43m2\u001b[39;49m\u001b[43m,\u001b[49m\u001b[43ml\u001b[49m\u001b[43m)\u001b[49m\u001b[43m)\u001b[49m\n",
      "\u001b[0;31mTypeError\u001b[0m: 'list' object is not callable"
     ]
    }
   ],
   "source": [
    "list(map(lambda x : x**2,l))"
   ]
  },
  {
   "cell_type": "code",
   "execution_count": 68,
   "id": "42946aab-f5df-4441-b388-75f8265592e2",
   "metadata": {},
   "outputs": [],
   "source": [
    "def test(l):\n",
    "    l1=[]\n",
    "    for i in l:\n",
    "        l1.append(i**2)\n",
    "        \n",
    "    return l1    \n",
    "        "
   ]
  },
  {
   "cell_type": "code",
   "execution_count": 69,
   "id": "eb3967db-7609-4c5f-b208-438019dc9b82",
   "metadata": {},
   "outputs": [
    {
     "data": {
      "text/plain": [
       "[1, 4, 9, 16, 25, 36, 49, 64, 81, 100]"
      ]
     },
     "execution_count": 69,
     "metadata": {},
     "output_type": "execute_result"
    }
   ],
   "source": [
    "test(l)"
   ]
  },
  {
   "cell_type": "code",
   "execution_count": 70,
   "id": "798bc3ab-3646-4dc0-96e1-51d17f8251c7",
   "metadata": {},
   "outputs": [],
   "source": [
    "#Write a python program to convert the given list of integers into a tuple of strings. Use map and\n",
    "#lambda functions"
   ]
  },
  {
   "cell_type": "code",
   "execution_count": 74,
   "id": "8bad7efc-b175-4266-89fe-c3814b2adba4",
   "metadata": {},
   "outputs": [
    {
     "ename": "TypeError",
     "evalue": "'list' object is not callable",
     "output_type": "error",
     "traceback": [
      "\u001b[0;31m---------------------------------------------------------------------------\u001b[0m",
      "\u001b[0;31mTypeError\u001b[0m                                 Traceback (most recent call last)",
      "Cell \u001b[0;32mIn[74], line 1\u001b[0m\n\u001b[0;32m----> 1\u001b[0m a\u001b[38;5;241m=\u001b[39m\u001b[38;5;28;43mlist\u001b[39;49m\u001b[43m(\u001b[49m\u001b[38;5;28;43mmap\u001b[39;49m\u001b[43m(\u001b[49m\u001b[38;5;28;43;01mlambda\u001b[39;49;00m\u001b[43m \u001b[49m\u001b[43mx\u001b[49m\u001b[43m \u001b[49m\u001b[43m:\u001b[49m\u001b[43m \u001b[49m\u001b[38;5;28;43mstr\u001b[39;49m\u001b[43m(\u001b[49m\u001b[43mx\u001b[49m\u001b[43m)\u001b[49m\u001b[43m \u001b[49m\u001b[43m,\u001b[49m\u001b[43m \u001b[49m\u001b[43ml\u001b[49m\u001b[43m)\u001b[49m\u001b[43m)\u001b[49m\n",
      "\u001b[0;31mTypeError\u001b[0m: 'list' object is not callable"
     ]
    }
   ],
   "source": [
    "a=list(map(lambda x : str(x) , l))"
   ]
  },
  {
   "cell_type": "code",
   "execution_count": null,
   "id": "7aadddf1-95ad-4a3e-ac04-96c239e271dc",
   "metadata": {},
   "outputs": [],
   "source": []
  }
 ],
 "metadata": {
  "kernelspec": {
   "display_name": "Python 3 (ipykernel)",
   "language": "python",
   "name": "python3"
  },
  "language_info": {
   "codemirror_mode": {
    "name": "ipython",
    "version": 3
   },
   "file_extension": ".py",
   "mimetype": "text/x-python",
   "name": "python",
   "nbconvert_exporter": "python",
   "pygments_lexer": "ipython3",
   "version": "3.10.8"
  }
 },
 "nbformat": 4,
 "nbformat_minor": 5
}
